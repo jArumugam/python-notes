{
 "cells": [
  {
   "cell_type": "code",
   "execution_count": 1,
   "metadata": {
    "collapsed": true
   },
   "outputs": [],
   "source": [
    "import pandas as pd\n",
    "import numpy as np\n",
    "\n",
    "import matplotlib.pyplot as plt\n",
    "%matplotlib inline\n",
    "import seaborn as sns\n",
    "\n",
    "plt.rcParams[\"figure.figsize\"] = (10,10)"
   ]
  },
  {
   "cell_type": "code",
   "execution_count": 2,
   "metadata": {
    "collapsed": true
   },
   "outputs": [],
   "source": [
    "import random\n",
    "import matplotlib.patches as mpatches"
   ]
  },
  {
   "cell_type": "markdown",
   "metadata": {},
   "source": [
    "### Cleanup data"
   ]
  },
  {
   "cell_type": "code",
   "execution_count": 3,
   "metadata": {
    "collapsed": true
   },
   "outputs": [],
   "source": [
    "taxi_full_pd = pd.read_csv('../data/taxi_short_2.csv')"
   ]
  },
  {
   "cell_type": "markdown",
   "metadata": {},
   "source": [
    "### NYW Lat and Longitude"
   ]
  },
  {
   "cell_type": "code",
   "execution_count": 4,
   "metadata": {
    "collapsed": true
   },
   "outputs": [],
   "source": [
    "center_lat = 40.76\n",
    "center_lng = -73.925\n",
    "dlat = 0.1\n",
    "dlng = 0.1\n",
    "min_lat = center_lat - dlat\n",
    "max_lat = center_lat + dlat\n",
    "min_lng = center_lng - dlng\n",
    "max_lng = center_lng + dlng"
   ]
  },
  {
   "cell_type": "code",
   "execution_count": 5,
   "metadata": {
    "collapsed": true
   },
   "outputs": [],
   "source": [
    "taxi_pd = pd.DataFrame(taxi_full_pd[(taxi_full_pd.trip_distance <= 50) & \n",
    "                                    (taxi_full_pd.trip_distance > 0.1) &\n",
    "                                    (taxi_full_pd.trip_time_in_secs > 1) &\n",
    "                                    (taxi_full_pd.fare_amount < 50) &\n",
    "                                    (taxi_full_pd.fare_amount*2 % 1 == 0) &\n",
    "                                    (taxi_full_pd.pickup_latitude > center_lat - dlat) &\n",
    "                                    (taxi_full_pd.pickup_latitude < center_lat + dlat) &\n",
    "                                    (taxi_full_pd.pickup_longitude > center_lng - dlng) &\n",
    "                                    (taxi_full_pd.pickup_longitude < center_lng + dlng)])\n",
    "\n",
    "del taxi_full_pd"
   ]
  },
  {
   "cell_type": "code",
   "execution_count": 8,
   "metadata": {
    "collapsed": false
   },
   "outputs": [
    {
     "data": {
      "text/html": [
       "<div>\n",
       "<table border=\"1\" class=\"dataframe\">\n",
       "  <thead>\n",
       "    <tr style=\"text-align: right;\">\n",
       "      <th></th>\n",
       "      <th>medallion</th>\n",
       "      <th>hack_license</th>\n",
       "      <th>pickup_datetime</th>\n",
       "      <th>payment_type</th>\n",
       "      <th>fare_amount</th>\n",
       "      <th>tip_amount</th>\n",
       "      <th>total_amount</th>\n",
       "      <th>dropoff_datetime</th>\n",
       "      <th>passenger_count</th>\n",
       "      <th>trip_time_in_secs</th>\n",
       "      <th>trip_distance</th>\n",
       "      <th>pickup_longitude</th>\n",
       "      <th>pickup_latitude</th>\n",
       "      <th>dropoff_longitude</th>\n",
       "      <th>dropoff_latitude</th>\n",
       "    </tr>\n",
       "  </thead>\n",
       "  <tbody>\n",
       "    <tr>\n",
       "      <th>0</th>\n",
       "      <td>1B5C0970</td>\n",
       "      <td>D9613323</td>\n",
       "      <td>2013-02-08 23:35:14</td>\n",
       "      <td>CRD</td>\n",
       "      <td>6.0</td>\n",
       "      <td>0.0</td>\n",
       "      <td>7.0</td>\n",
       "      <td>2013-02-08 23:42:58</td>\n",
       "      <td>1</td>\n",
       "      <td>463</td>\n",
       "      <td>0.8</td>\n",
       "      <td>-73.992439</td>\n",
       "      <td>40.724487</td>\n",
       "      <td>-73.984421</td>\n",
       "      <td>40.718903</td>\n",
       "    </tr>\n",
       "    <tr>\n",
       "      <th>1</th>\n",
       "      <td>B42249AE</td>\n",
       "      <td>D4BB308D</td>\n",
       "      <td>2013-02-07 12:20:16</td>\n",
       "      <td>CRD</td>\n",
       "      <td>20.0</td>\n",
       "      <td>3.0</td>\n",
       "      <td>23.5</td>\n",
       "      <td>2013-02-07 12:50:27</td>\n",
       "      <td>4</td>\n",
       "      <td>1810</td>\n",
       "      <td>3.1</td>\n",
       "      <td>-73.989494</td>\n",
       "      <td>40.769588</td>\n",
       "      <td>-73.990303</td>\n",
       "      <td>40.737347</td>\n",
       "    </tr>\n",
       "    <tr>\n",
       "      <th>2</th>\n",
       "      <td>89069922</td>\n",
       "      <td>6318C3AE</td>\n",
       "      <td>2013-02-08 08:56:54</td>\n",
       "      <td>CRD</td>\n",
       "      <td>5.0</td>\n",
       "      <td>1.1</td>\n",
       "      <td>6.6</td>\n",
       "      <td>2013-02-08 08:59:43</td>\n",
       "      <td>1</td>\n",
       "      <td>168</td>\n",
       "      <td>1.0</td>\n",
       "      <td>-73.963036</td>\n",
       "      <td>40.799141</td>\n",
       "      <td>-73.972168</td>\n",
       "      <td>40.786446</td>\n",
       "    </tr>\n",
       "    <tr>\n",
       "      <th>3</th>\n",
       "      <td>74B7D835</td>\n",
       "      <td>D5E278C9</td>\n",
       "      <td>2013-02-08 09:37:02</td>\n",
       "      <td>CRD</td>\n",
       "      <td>11.0</td>\n",
       "      <td>2.3</td>\n",
       "      <td>13.8</td>\n",
       "      <td>2013-02-08 09:50:50</td>\n",
       "      <td>1</td>\n",
       "      <td>828</td>\n",
       "      <td>2.1</td>\n",
       "      <td>-73.987953</td>\n",
       "      <td>40.728764</td>\n",
       "      <td>-74.007118</td>\n",
       "      <td>40.705399</td>\n",
       "    </tr>\n",
       "    <tr>\n",
       "      <th>4</th>\n",
       "      <td>4003B847</td>\n",
       "      <td>0B766F10</td>\n",
       "      <td>2013-02-08 19:31:25</td>\n",
       "      <td>CRD</td>\n",
       "      <td>13.0</td>\n",
       "      <td>1.5</td>\n",
       "      <td>16.0</td>\n",
       "      <td>2013-02-08 19:46:23</td>\n",
       "      <td>1</td>\n",
       "      <td>897</td>\n",
       "      <td>3.3</td>\n",
       "      <td>-73.987282</td>\n",
       "      <td>40.743042</td>\n",
       "      <td>-74.010284</td>\n",
       "      <td>40.703964</td>\n",
       "    </tr>\n",
       "  </tbody>\n",
       "</table>\n",
       "</div>"
      ],
      "text/plain": [
       "  medallion hack_license      pickup_datetime payment_type  fare_amount  \\\n",
       "0  1B5C0970     D9613323  2013-02-08 23:35:14          CRD          6.0   \n",
       "1  B42249AE     D4BB308D  2013-02-07 12:20:16          CRD         20.0   \n",
       "2  89069922     6318C3AE  2013-02-08 08:56:54          CRD          5.0   \n",
       "3  74B7D835     D5E278C9  2013-02-08 09:37:02          CRD         11.0   \n",
       "4  4003B847     0B766F10  2013-02-08 19:31:25          CRD         13.0   \n",
       "\n",
       "   tip_amount  total_amount     dropoff_datetime  passenger_count  \\\n",
       "0         0.0           7.0  2013-02-08 23:42:58                1   \n",
       "1         3.0          23.5  2013-02-07 12:50:27                4   \n",
       "2         1.1           6.6  2013-02-08 08:59:43                1   \n",
       "3         2.3          13.8  2013-02-08 09:50:50                1   \n",
       "4         1.5          16.0  2013-02-08 19:46:23                1   \n",
       "\n",
       "   trip_time_in_secs  trip_distance  pickup_longitude  pickup_latitude  \\\n",
       "0                463            0.8        -73.992439        40.724487   \n",
       "1               1810            3.1        -73.989494        40.769588   \n",
       "2                168            1.0        -73.963036        40.799141   \n",
       "3                828            2.1        -73.987953        40.728764   \n",
       "4                897            3.3        -73.987282        40.743042   \n",
       "\n",
       "   dropoff_longitude  dropoff_latitude  \n",
       "0         -73.984421         40.718903  \n",
       "1         -73.990303         40.737347  \n",
       "2         -73.972168         40.786446  \n",
       "3         -74.007118         40.705399  \n",
       "4         -74.010284         40.703964  "
      ]
     },
     "execution_count": 8,
     "metadata": {},
     "output_type": "execute_result"
    }
   ],
   "source": [
    "# drop garbage columns \n",
    "taxi_pd.drop(taxi_pd.columns[:2],axis=1, inplace=True)\n",
    "\n",
    "taxi_pd.head()"
   ]
  },
  {
   "cell_type": "code",
   "execution_count": 9,
   "metadata": {
    "collapsed": true
   },
   "outputs": [],
   "source": [
    "num_lat_bins = 40\n",
    "num_lng_bins = 40\n",
    "\n",
    "lat_bins = np.linspace(min_lat, max_lat, num_lat_bins+1)\n",
    "lng_bins = np.linspace(min_lng, max_lng, num_lng_bins+1)"
   ]
  },
  {
   "cell_type": "code",
   "execution_count": 10,
   "metadata": {
    "collapsed": false
   },
   "outputs": [
    {
     "name": "stdout",
     "output_type": "stream",
     "text": [
      "[ 40.66   40.665  40.67   40.675  40.68 ]\n",
      "[-74.025 -74.02  -74.015 -74.01  -74.005]\n"
     ]
    }
   ],
   "source": [
    "print lat_bins[:5]\n",
    "print lng_bins[:5]"
   ]
  },
  {
   "cell_type": "markdown",
   "metadata": {},
   "source": [
    "## Cut "
   ]
  },
  {
   "cell_type": "code",
   "execution_count": 18,
   "metadata": {
    "collapsed": false
   },
   "outputs": [
    {
     "name": "stdout",
     "output_type": "stream",
     "text": [
      "[(40.72, 40.725], (40.765, 40.77], (40.795, 40.8], (40.725, 40.73], (40.74, 40.745], ..., (40.75, 40.755], (40.735, 40.74], (40.75, 40.755], (40.755, 40.76], (40.77, 40.775]]\n",
      "Length: 13295988\n",
      "Categories (40, object): [(40.66, 40.665] < (40.665, 40.67] < (40.67, 40.675] < (40.675, 40.68] ... (40.84, 40.845] < (40.845, 40.85] < (40.85, 40.855] < (40.855, 40.86]]\n"
     ]
    }
   ],
   "source": [
    "pick_clat = pd.cut(taxi_pd.pickup_latitude.values, lat_bins)\n",
    "print pick_clat"
   ]
  },
  {
   "cell_type": "code",
   "execution_count": 21,
   "metadata": {
    "collapsed": false
   },
   "outputs": [
    {
     "name": "stdout",
     "output_type": "stream",
     "text": [
      "[(40.72, 40.725], (40.765, 40.77], (40.795, 40.8], (40.725, 40.73], (40.74, 40.745]]\n",
      "Categories (40, object): [(40.66, 40.665] < (40.665, 40.67] < (40.67, 40.675] < (40.675, 40.68] ... (40.84, 40.845] < (40.845, 40.85] < (40.85, 40.855] < (40.855, 40.86]]\n"
     ]
    }
   ],
   "source": [
    "print pick_clat[:5]"
   ]
  },
  {
   "cell_type": "code",
   "execution_count": 22,
   "metadata": {
    "collapsed": false
   },
   "outputs": [
    {
     "name": "stdout",
     "output_type": "stream",
     "text": [
      "[12 21 27 13 16]\n"
     ]
    }
   ],
   "source": [
    "print pick_clat.codes[:5]"
   ]
  },
  {
   "cell_type": "code",
   "execution_count": 25,
   "metadata": {
    "collapsed": false
   },
   "outputs": [
    {
     "name": "stdout",
     "output_type": "stream",
     "text": [
      "[12 21 27 13 16 12 24 19 18 16 15 21 23 18 20 18 14 19 13 16 18 11 23 18 25\n",
      " 18 25 23 20 24 16 11 24 23 15  9 17 12 20 17 13 21 12 17 16 24 18 18 14 16]\n"
     ]
    }
   ],
   "source": [
    "print pick_clat.codes[:50]"
   ]
  },
  {
   "cell_type": "code",
   "execution_count": 26,
   "metadata": {
    "collapsed": true
   },
   "outputs": [],
   "source": [
    "pick_clng = pd.cut(taxi_pd.pickup_longitude.values, lng_bins)\n",
    "drop_clat = pd.cut(taxi_pd.dropoff_latitude.values, lat_bins)\n",
    "drop_clng = pd.cut(taxi_pd.dropoff_longitude.values, lng_bins)"
   ]
  },
  {
   "cell_type": "markdown",
   "metadata": {},
   "source": [
    "## Groupby"
   ]
  },
  {
   "cell_type": "code",
   "execution_count": 31,
   "metadata": {
    "collapsed": false
   },
   "outputs": [
    {
     "name": "stdout",
     "output_type": "stream",
     "text": [
      "0   -73.992439\n",
      "1   -73.989494\n",
      "2   -73.963036\n",
      "3   -73.987953\n",
      "4   -73.987282\n",
      "Name: pickup_longitude, dtype: float64\n"
     ]
    }
   ],
   "source": [
    "pick_s = pd.Series(taxi_pd.pickup_longitude)\n",
    "drop_s = pd.Series(taxi_pd.dropoff_longitude)\n",
    "\n",
    "print pick_s[:5]"
   ]
  },
  {
   "cell_type": "code",
   "execution_count": 35,
   "metadata": {
    "collapsed": false
   },
   "outputs": [
    {
     "data": {
      "text/plain": [
       "0   0       2\n",
       "    1       1\n",
       "    4      15\n",
       "    5     475\n",
       "    6     571\n",
       "    7     252\n",
       "    8     489\n",
       "    9     115\n",
       "    10      2\n",
       "    12    502\n",
       "    13     58\n",
       "    14     56\n",
       "    15     16\n",
       "    16     22\n",
       "    17     15\n",
       "    18     93\n",
       "    19     62\n",
       "    20      8\n",
       "    21      6\n",
       "    22      1\n",
       "    23      7\n",
       "    24      3\n",
       "    25     21\n",
       "    26      8\n",
       "    27      5\n",
       "    28      4\n",
       "    30      1\n",
       "    31      3\n",
       "    33      4\n",
       "    34      2\n",
       "         ... \n",
       "39  8       2\n",
       "    9       3\n",
       "    10      2\n",
       "    11      6\n",
       "    12      2\n",
       "    14      3\n",
       "    15      1\n",
       "    16      1\n",
       "    17    139\n",
       "    18    316\n",
       "    19     31\n",
       "    20     15\n",
       "    21      8\n",
       "    22      5\n",
       "    23     24\n",
       "    24     33\n",
       "    25     51\n",
       "    26     13\n",
       "    27     24\n",
       "    28      6\n",
       "    29      1\n",
       "    30      2\n",
       "    31     27\n",
       "    32      3\n",
       "    33      6\n",
       "    34      2\n",
       "    35      5\n",
       "    36      3\n",
       "    37      1\n",
       "    39      2\n",
       "Name: pickup_longitude, dtype: int64"
      ]
     },
     "execution_count": 35,
     "metadata": {},
     "output_type": "execute_result"
    }
   ],
   "source": [
    "pick_s.groupby([pick_clat.codes, pick_clng.codes]).count()"
   ]
  },
  {
   "cell_type": "markdown",
   "metadata": {},
   "source": [
    "## Multiindex \n"
   ]
  },
  {
   "cell_type": "code",
   "execution_count": 11,
   "metadata": {
    "collapsed": true
   },
   "outputs": [],
   "source": [
    "#bin stops (pickup or dropoff) in uniform lng/lat bins\n",
    "lat_lng_mi = pd.MultiIndex.from_product([range(0, num_lat_bins), \n",
    "                                         range(0, num_lng_bins)], \n",
    "                                        names=['lat', 'lng'])\n",
    "print lat_lng_mi\n",
    "print lat_lng_mi.labels"
   ]
  },
  {
   "cell_type": "code",
   "execution_count": 27,
   "metadata": {
    "collapsed": true
   },
   "outputs": [],
   "source": [
    "#total number of stops (pickup or dropoff) in each lng/lat bin\n",
    "stop_binned_cnts = pick_s.groupby([pick_clat.codes, pick_clng.codes]).count()"
   ]
  },
  {
   "cell_type": "code",
   "execution_count": 36,
   "metadata": {
    "collapsed": false
   },
   "outputs": [
    {
     "data": {
      "text/plain": [
       "lat  lng\n",
       "0    0        2.0\n",
       "     1        1.0\n",
       "     2        0.0\n",
       "     3        0.0\n",
       "     4       15.0\n",
       "     5      475.0\n",
       "     6      571.0\n",
       "     7      252.0\n",
       "     8      489.0\n",
       "     9      115.0\n",
       "     10       2.0\n",
       "     11       0.0\n",
       "     12     502.0\n",
       "     13      58.0\n",
       "     14      56.0\n",
       "     15      16.0\n",
       "     16      22.0\n",
       "     17      15.0\n",
       "     18      93.0\n",
       "     19      62.0\n",
       "     20       8.0\n",
       "     21       6.0\n",
       "     22       1.0\n",
       "     23       7.0\n",
       "     24       3.0\n",
       "     25      21.0\n",
       "     26       8.0\n",
       "     27       5.0\n",
       "     28       4.0\n",
       "     29       0.0\n",
       "            ...  \n",
       "39   10       2.0\n",
       "     11       6.0\n",
       "     12       2.0\n",
       "     13       0.0\n",
       "     14       3.0\n",
       "     15       1.0\n",
       "     16       1.0\n",
       "     17     139.0\n",
       "     18     316.0\n",
       "     19      31.0\n",
       "     20      15.0\n",
       "     21       8.0\n",
       "     22       5.0\n",
       "     23      24.0\n",
       "     24      33.0\n",
       "     25      51.0\n",
       "     26      13.0\n",
       "     27      24.0\n",
       "     28       6.0\n",
       "     29       1.0\n",
       "     30       2.0\n",
       "     31      27.0\n",
       "     32       3.0\n",
       "     33       6.0\n",
       "     34       2.0\n",
       "     35       5.0\n",
       "     36       3.0\n",
       "     37       1.0\n",
       "     38       0.0\n",
       "     39       2.0\n",
       "Name: pickup_longitude, dtype: float64"
      ]
     },
     "execution_count": 36,
     "metadata": {},
     "output_type": "execute_result"
    }
   ],
   "source": [
    "pick_s.groupby([pick_clat.codes, pick_clng.codes]).count().reindex(lat_lng_mi).fillna(0)"
   ]
  },
  {
   "cell_type": "code",
   "execution_count": 37,
   "metadata": {
    "collapsed": true
   },
   "outputs": [],
   "source": [
    "stop_binned_cnts_ri = stop_binned_cnts.reindex(lat_lng_mi).fillna(0)"
   ]
  },
  {
   "cell_type": "code",
   "execution_count": 38,
   "metadata": {
    "collapsed": false
   },
   "outputs": [
    {
     "data": {
      "text/plain": [
       "array([  2.,   1.,   0.,   0.,  15.])"
      ]
     },
     "execution_count": 38,
     "metadata": {},
     "output_type": "execute_result"
    }
   ],
   "source": [
    "stop_binned_cnts_ri.values[:5]"
   ]
  },
  {
   "cell_type": "code",
   "execution_count": 40,
   "metadata": {
    "collapsed": false
   },
   "outputs": [
    {
     "data": {
      "text/plain": [
       "lat  lng\n",
       "0    0       2.0\n",
       "     1       1.0\n",
       "     2       0.0\n",
       "     3       0.0\n",
       "     4      15.0\n",
       "Name: pickup_longitude, dtype: float64"
      ]
     },
     "execution_count": 40,
     "metadata": {},
     "output_type": "execute_result"
    }
   ],
   "source": [
    "stop_binned_cnts_ri[:5]"
   ]
  },
  {
   "cell_type": "code",
   "execution_count": null,
   "metadata": {
    "collapsed": true
   },
   "outputs": [],
   "source": []
  }
 ],
 "metadata": {
  "kernelspec": {
   "display_name": "Python 2",
   "language": "python",
   "name": "python2"
  },
  "language_info": {
   "codemirror_mode": {
    "name": "ipython",
    "version": 2
   },
   "file_extension": ".py",
   "mimetype": "text/x-python",
   "name": "python",
   "nbconvert_exporter": "python",
   "pygments_lexer": "ipython2",
   "version": "2.7.13"
  }
 },
 "nbformat": 4,
 "nbformat_minor": 2
}
