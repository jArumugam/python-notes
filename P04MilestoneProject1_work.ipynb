{
 "cells": [
  {
   "cell_type": "markdown",
   "metadata": {},
   "source": [
    "2 players should be able to play the game (both sitting at the same computer)\n",
    "The board should be printed out every time a player makes a move\n",
    "You should be able to accept input of the player position and then place a symbol on the board\n"
   ]
  },
  {
   "cell_type": "markdown",
   "metadata": {
    "collapsed": true
   },
   "source": [
    "## These are my guess\n",
    "* get input\n",
    "* start game \n",
    "* initiate board\n",
    "* initiate player \n",
    "* correct wrong input \n",
    "* update board \n",
    "* switch user \n",
    "\n",
    "### These are from Portilla's walk through steps\n",
    "* display_board\n",
    "* player_input\n",
    "* place_marker\n",
    "* win_check\n",
    "* choose_first\n",
    "* space_check\n",
    "* full_board_check\n",
    "* player_choice\n",
    "* replay\n"
   ]
  },
  {
   "cell_type": "code",
   "execution_count": 64,
   "metadata": {
    "collapsed": true
   },
   "outputs": [],
   "source": [
    "import random"
   ]
  },
  {
   "cell_type": "code",
   "execution_count": 65,
   "metadata": {
    "collapsed": true
   },
   "outputs": [],
   "source": [
    "def game_initiate():\n",
    "    bConfig = [' '] * 10\n",
    "    display_board(bConfig) \n",
    "    print \"New game has been started\"\n",
    "    return bConfig, choose_first()"
   ]
  },
  {
   "cell_type": "code",
   "execution_count": 66,
   "metadata": {
    "collapsed": false
   },
   "outputs": [
    {
     "name": "stdout",
     "output_type": "stream",
     "text": [
      "[' ', 'X', ' ', ' ', ' ', ' ', ' ', ' ', ' ', ' ']\n"
     ]
    }
   ],
   "source": [
    "print bConfig"
   ]
  },
  {
   "cell_type": "code",
   "execution_count": 67,
   "metadata": {
    "collapsed": true
   },
   "outputs": [],
   "source": [
    "def choose_first():\n",
    "    randPlayer = random.randint(1,2)\n",
    "    print \"Player %d has been chosen to play first\"%(randPlayer)\n",
    "    return randPlayer"
   ]
  },
  {
   "cell_type": "code",
   "execution_count": 69,
   "metadata": {
    "collapsed": false
   },
   "outputs": [],
   "source": [
    "# print board\n",
    "def display_board(bConfig):\n",
    "    print \n",
    "    print \" _   _   _ \"\n",
    "    print \" %s | %s | %s \" % (bConfig[1], bConfig[2], bConfig[3])\n",
    "    print \" _   _   _ \"\n",
    "    print \n",
    "    print \" %s | %s | %s \" % (bConfig[4], bConfig[5], bConfig[6])\n",
    "    print \" _   _   _ \"\n",
    "    print \n",
    "    print \" %s | %s | %s \" % (bConfig[7], bConfig[8], bConfig[9])\n",
    "    print \" _   _   _ \"\n",
    "    print \n",
    "    "
   ]
  },
  {
   "cell_type": "code",
   "execution_count": 79,
   "metadata": {
    "collapsed": true
   },
   "outputs": [],
   "source": [
    "def player_input(bConfig, playerNum):\n",
    "    # Using strings because of raw_input\n",
    "    marKers = {1:'X', 2:'O'}\n",
    "    position = ' '\n",
    "    while position not in '1 2 3 4 5 6 7 8 9'.split() or not space_check(bConfig, int(position)):\n",
    "        position = raw_input('Choose your next position: (1-9) ')\n",
    "    return marKers[playerNum], int(position)"
   ]
  },
  {
   "cell_type": "code",
   "execution_count": 71,
   "metadata": {
    "collapsed": true
   },
   "outputs": [],
   "source": [
    "def space_check(bConfig, loCation):\n",
    "    return bConfig[loCation] == ' '"
   ]
  },
  {
   "cell_type": "code",
   "execution_count": 73,
   "metadata": {
    "collapsed": true
   },
   "outputs": [],
   "source": [
    "def place_marker(bConfig, marKer, loCation):\n",
    "    bConfig[loCation] = marKer \n",
    "    return bConfig"
   ]
  },
  {
   "cell_type": "code",
   "execution_count": 74,
   "metadata": {
    "collapsed": true
   },
   "outputs": [],
   "source": [
    "def win_check(board,mark):\n",
    "    '''   \n",
    "    This could be really optimized\n",
    "    http://stackoverflow.com/questions/1056316/algorithm-for-determining-tic-tac-toe-game-over \n",
    "    '''\n",
    "    return ((board[7] == mark and board[8] == mark and board[9] == mark) or # across the top\n",
    "    (board[4] == mark and board[5] == mark and board[6] == mark) or # across the middle\n",
    "    (board[1] == mark and board[2] == mark and board[3] == mark) or # across the bottom\n",
    "    (board[7] == mark and board[4] == mark and board[1] == mark) or # down the middle\n",
    "    (board[8] == mark and board[5] == mark and board[2] == mark) or # down the middle\n",
    "    (board[9] == mark and board[6] == mark and board[3] == mark) or # down the right side\n",
    "    (board[7] == mark and board[5] == mark and board[3] == mark) or # diagonal\n",
    "    (board[9] == mark and board[5] == mark and board[1] == mark)) # diagonal"
   ]
  },
  {
   "cell_type": "code",
   "execution_count": 84,
   "metadata": {
    "collapsed": false
   },
   "outputs": [],
   "source": [
    "def full_board_check(bConfig):\n",
    "    for ii in range(1,10):\n",
    "        if space_check(bConfig, ii):\n",
    "            return False    \n",
    "    return True"
   ]
  },
  {
   "cell_type": "code",
   "execution_count": 77,
   "metadata": {
    "collapsed": false
   },
   "outputs": [],
   "source": [
    "def replay():\n",
    "    return raw_input(\"Do you want to play again? press y to continue :\").lower().startswith('y')"
   ]
  },
  {
   "cell_type": "code",
   "execution_count": 33,
   "metadata": {
    "collapsed": false
   },
   "outputs": [
    {
     "name": "stdout",
     "output_type": "stream",
     "text": [
      "Enter your input : 1\n",
      "Location Already Taken. Enter Different Number\n",
      "Choose location between 0-8\n",
      "Enter your input : 2\n",
      "Location Already Taken. Enter Different Number\n",
      "Choose location between 0-8\n",
      "Enter your input : 3\n",
      "\n",
      " _   _   _ \n",
      "   | O | X \n",
      " _   _   _ \n",
      "\n",
      " X |   |   \n",
      " _   _   _ \n",
      "\n",
      "   |   |   \n",
      " _   _   _ \n",
      "\n"
     ]
    }
   ],
   "source": [
    "marKer, loCation = player_input(bConfig, 1)\n",
    "place_marker(bConfig, marKer, loCation)\n",
    "display_board(bConfig)"
   ]
  },
  {
   "cell_type": "code",
   "execution_count": null,
   "metadata": {
    "collapsed": true
   },
   "outputs": [],
   "source": [
    "# bConfig = place_marker(bConfig, 'x', 5)\n",
    "# choose_first()\n",
    "# replay()\n",
    "mark, loCation = player_input(bConfig, playerNum)\n",
    "print mark, loCation"
   ]
  },
  {
   "cell_type": "code",
   "execution_count": 25,
   "metadata": {
    "collapsed": false
   },
   "outputs": [
    {
     "name": "stdout",
     "output_type": "stream",
     "text": [
      "X\n"
     ]
    }
   ],
   "source": [
    "dicTCheck = {1:'X',2:'O'}\n",
    "print dicTCheck[1]"
   ]
  },
  {
   "cell_type": "code",
   "execution_count": 85,
   "metadata": {
    "collapsed": false
   },
   "outputs": [
    {
     "name": "stdout",
     "output_type": "stream",
     "text": [
      "Welcome to Tic Tac Toe!\n",
      "\n",
      " _   _   _ \n",
      "   |   |   \n",
      " _   _   _ \n",
      "\n",
      "   |   |   \n",
      " _   _   _ \n",
      "\n",
      "   |   |   \n",
      " _   _   _ \n",
      "\n",
      "New game has been started\n",
      "Player 1 has been chosen to play first\n",
      "Player 1 turn :\n",
      "Choose your next position: (1-9) 1\n",
      "\n",
      " _   _   _ \n",
      " X |   |   \n",
      " _   _   _ \n",
      "\n",
      "   |   |   \n",
      " _   _   _ \n",
      "\n",
      "   |   |   \n",
      " _   _   _ \n",
      "\n",
      "player check 2\n",
      "Player 2 turn :\n",
      "Choose your next position: (1-9) 1\n",
      "Choose your next position: (1-9) 2\n",
      "\n",
      " _   _   _ \n",
      " X | O |   \n",
      " _   _   _ \n",
      "\n",
      "   |   |   \n",
      " _   _   _ \n",
      "\n",
      "   |   |   \n",
      " _   _   _ \n",
      "\n",
      "player check 1\n",
      "Player 1 turn :\n",
      "Choose your next position: (1-9) 3\n",
      "\n",
      " _   _   _ \n",
      " X | O | X \n",
      " _   _   _ \n",
      "\n",
      "   |   |   \n",
      " _   _   _ \n",
      "\n",
      "   |   |   \n",
      " _   _   _ \n",
      "\n",
      "player check 2\n",
      "Player 2 turn :\n",
      "Choose your next position: (1-9) 4\n",
      "\n",
      " _   _   _ \n",
      " X | O | X \n",
      " _   _   _ \n",
      "\n",
      " O |   |   \n",
      " _   _   _ \n",
      "\n",
      "   |   |   \n",
      " _   _   _ \n",
      "\n",
      "player check 1\n",
      "Player 1 turn :\n",
      "Choose your next position: (1-9) 5\n",
      "\n",
      " _   _   _ \n",
      " X | O | X \n",
      " _   _   _ \n",
      "\n",
      " O | X |   \n",
      " _   _   _ \n",
      "\n",
      "   |   |   \n",
      " _   _   _ \n",
      "\n",
      "player check 2\n",
      "Player 2 turn :\n",
      "Choose your next position: (1-9) 6\n",
      "\n",
      " _   _   _ \n",
      " X | O | X \n",
      " _   _   _ \n",
      "\n",
      " O | X | O \n",
      " _   _   _ \n",
      "\n",
      "   |   |   \n",
      " _   _   _ \n",
      "\n",
      "player check 1\n",
      "Player 1 turn :\n",
      "Choose your next position: (1-9) 8\n",
      "\n",
      " _   _   _ \n",
      " X | O | X \n",
      " _   _   _ \n",
      "\n",
      " O | X | O \n",
      " _   _   _ \n",
      "\n",
      "   | X |   \n",
      " _   _   _ \n",
      "\n",
      "player check 2\n",
      "Player 2 turn :\n",
      "Choose your next position: (1-9) 7\n",
      "\n",
      " _   _   _ \n",
      " X | O | X \n",
      " _   _   _ \n",
      "\n",
      " O | X | O \n",
      " _   _   _ \n",
      "\n",
      " O | X |   \n",
      " _   _   _ \n",
      "\n",
      "player check 1\n",
      "Player 1 turn :\n",
      "Choose your next position: (1-9) 9\n",
      "\n",
      " _   _   _ \n",
      " X | O | X \n",
      " _   _   _ \n",
      "\n",
      " O | X | O \n",
      " _   _   _ \n",
      "\n",
      " O | X | X \n",
      " _   _   _ \n",
      "\n",
      "Player 1 Won!!!\n",
      "I entered this part\n",
      "Do you want to play again? press y to continue :y\n",
      "\n",
      " _   _   _ \n",
      "   |   |   \n",
      " _   _   _ \n",
      "\n",
      "   |   |   \n",
      " _   _   _ \n",
      "\n",
      "   |   |   \n",
      " _   _   _ \n",
      "\n",
      "New game has been started\n",
      "Player 1 has been chosen to play first\n",
      "Player 1 turn :\n"
     ]
    },
    {
     "ename": "KeyboardInterrupt",
     "evalue": "",
     "output_type": "error",
     "traceback": [
      "\u001b[0;31m---------------------------------------------------------------------------\u001b[0m",
      "\u001b[0;31mKeyboardInterrupt\u001b[0m                         Traceback (most recent call last)",
      "\u001b[0;32m<ipython-input-85-329ae8baf106>\u001b[0m in \u001b[0;36m<module>\u001b[0;34m()\u001b[0m\n\u001b[1;32m     11\u001b[0m             \u001b[0;31m#Player 1 Turn\u001b[0m\u001b[0;34m\u001b[0m\u001b[0;34m\u001b[0m\u001b[0m\n\u001b[1;32m     12\u001b[0m             \u001b[0;32mprint\u001b[0m \u001b[0;34m\"Player %d turn :\"\u001b[0m\u001b[0;34m%\u001b[0m \u001b[0mplayerNum\u001b[0m\u001b[0;34m\u001b[0m\u001b[0m\n\u001b[0;32m---> 13\u001b[0;31m             \u001b[0mmark\u001b[0m\u001b[0;34m,\u001b[0m \u001b[0mloCation\u001b[0m \u001b[0;34m=\u001b[0m \u001b[0mplayer_input\u001b[0m\u001b[0;34m(\u001b[0m\u001b[0mbConfig\u001b[0m\u001b[0;34m,\u001b[0m \u001b[0mplayerNum\u001b[0m\u001b[0;34m)\u001b[0m\u001b[0;34m\u001b[0m\u001b[0m\n\u001b[0m\u001b[1;32m     14\u001b[0m             \u001b[0mbConfig\u001b[0m \u001b[0;34m=\u001b[0m \u001b[0mplace_marker\u001b[0m\u001b[0;34m(\u001b[0m\u001b[0mbConfig\u001b[0m\u001b[0;34m,\u001b[0m \u001b[0mmark\u001b[0m\u001b[0;34m,\u001b[0m \u001b[0mloCation\u001b[0m\u001b[0;34m)\u001b[0m\u001b[0;34m\u001b[0m\u001b[0m\n\u001b[1;32m     15\u001b[0m             \u001b[0mdisplay_board\u001b[0m\u001b[0;34m(\u001b[0m\u001b[0mbConfig\u001b[0m\u001b[0;34m)\u001b[0m\u001b[0;34m\u001b[0m\u001b[0m\n",
      "\u001b[0;32m<ipython-input-79-691cb44a7831>\u001b[0m in \u001b[0;36mplayer_input\u001b[0;34m(bConfig, playerNum)\u001b[0m\n\u001b[1;32m      4\u001b[0m     \u001b[0mposition\u001b[0m \u001b[0;34m=\u001b[0m \u001b[0;34m' '\u001b[0m\u001b[0;34m\u001b[0m\u001b[0m\n\u001b[1;32m      5\u001b[0m     \u001b[0;32mwhile\u001b[0m \u001b[0mposition\u001b[0m \u001b[0;32mnot\u001b[0m \u001b[0;32min\u001b[0m \u001b[0;34m'1 2 3 4 5 6 7 8 9'\u001b[0m\u001b[0;34m.\u001b[0m\u001b[0msplit\u001b[0m\u001b[0;34m(\u001b[0m\u001b[0;34m)\u001b[0m \u001b[0;32mor\u001b[0m \u001b[0;32mnot\u001b[0m \u001b[0mspace_check\u001b[0m\u001b[0;34m(\u001b[0m\u001b[0mbConfig\u001b[0m\u001b[0;34m,\u001b[0m \u001b[0mint\u001b[0m\u001b[0;34m(\u001b[0m\u001b[0mposition\u001b[0m\u001b[0;34m)\u001b[0m\u001b[0;34m)\u001b[0m\u001b[0;34m:\u001b[0m\u001b[0;34m\u001b[0m\u001b[0m\n\u001b[0;32m----> 6\u001b[0;31m         \u001b[0mposition\u001b[0m \u001b[0;34m=\u001b[0m \u001b[0mraw_input\u001b[0m\u001b[0;34m(\u001b[0m\u001b[0;34m'Choose your next position: (1-9) '\u001b[0m\u001b[0;34m)\u001b[0m\u001b[0;34m\u001b[0m\u001b[0m\n\u001b[0m\u001b[1;32m      7\u001b[0m     \u001b[0;32mreturn\u001b[0m \u001b[0mmarKers\u001b[0m\u001b[0;34m[\u001b[0m\u001b[0mplayerNum\u001b[0m\u001b[0;34m]\u001b[0m\u001b[0;34m,\u001b[0m \u001b[0mint\u001b[0m\u001b[0;34m(\u001b[0m\u001b[0mposition\u001b[0m\u001b[0;34m)\u001b[0m\u001b[0;34m\u001b[0m\u001b[0m\n",
      "\u001b[0;32m/usr/local/lib/python2.7/site-packages/ipykernel/kernelbase.pyc\u001b[0m in \u001b[0;36mraw_input\u001b[0;34m(self, prompt)\u001b[0m\n\u001b[1;32m    692\u001b[0m             \u001b[0mself\u001b[0m\u001b[0;34m.\u001b[0m\u001b[0m_parent_ident\u001b[0m\u001b[0;34m,\u001b[0m\u001b[0;34m\u001b[0m\u001b[0m\n\u001b[1;32m    693\u001b[0m             \u001b[0mself\u001b[0m\u001b[0;34m.\u001b[0m\u001b[0m_parent_header\u001b[0m\u001b[0;34m,\u001b[0m\u001b[0;34m\u001b[0m\u001b[0m\n\u001b[0;32m--> 694\u001b[0;31m             \u001b[0mpassword\u001b[0m\u001b[0;34m=\u001b[0m\u001b[0mFalse\u001b[0m\u001b[0;34m,\u001b[0m\u001b[0;34m\u001b[0m\u001b[0m\n\u001b[0m\u001b[1;32m    695\u001b[0m         )\n\u001b[1;32m    696\u001b[0m \u001b[0;34m\u001b[0m\u001b[0m\n",
      "\u001b[0;32m/usr/local/lib/python2.7/site-packages/ipykernel/kernelbase.pyc\u001b[0m in \u001b[0;36m_input_request\u001b[0;34m(self, prompt, ident, parent, password)\u001b[0m\n\u001b[1;32m    722\u001b[0m             \u001b[0;32mexcept\u001b[0m \u001b[0mKeyboardInterrupt\u001b[0m\u001b[0;34m:\u001b[0m\u001b[0;34m\u001b[0m\u001b[0m\n\u001b[1;32m    723\u001b[0m                 \u001b[0;31m# re-raise KeyboardInterrupt, to truncate traceback\u001b[0m\u001b[0;34m\u001b[0m\u001b[0;34m\u001b[0m\u001b[0m\n\u001b[0;32m--> 724\u001b[0;31m                 \u001b[0;32mraise\u001b[0m \u001b[0mKeyboardInterrupt\u001b[0m\u001b[0;34m\u001b[0m\u001b[0m\n\u001b[0m\u001b[1;32m    725\u001b[0m             \u001b[0;32melse\u001b[0m\u001b[0;34m:\u001b[0m\u001b[0;34m\u001b[0m\u001b[0m\n\u001b[1;32m    726\u001b[0m                 \u001b[0;32mbreak\u001b[0m\u001b[0;34m\u001b[0m\u001b[0m\n",
      "\u001b[0;31mKeyboardInterrupt\u001b[0m: "
     ]
    }
   ],
   "source": [
    "print('Welcome to Tic Tac Toe!')\n",
    "\n",
    "while True:\n",
    "    # Set the game up here\n",
    "    bConfig, playerNum = game_initiate()\n",
    "    game_on = True\n",
    "\n",
    "    \n",
    "    while game_on:\n",
    "        if playerNum == 1: \n",
    "            #Player 1 Turn\n",
    "            print \"Player %d turn :\"% playerNum\n",
    "            mark, loCation = player_input(bConfig, playerNum)\n",
    "            bConfig = place_marker(bConfig, mark, loCation)\n",
    "            display_board(bConfig)\n",
    "            \n",
    "            if win_check(bConfig,mark):\n",
    "                # display_board(bConfig)\n",
    "                print \"Player %d Won!!!\" % playerNum\n",
    "                game_on = False\n",
    "            else:\n",
    "                if full_board_check(bConfig):\n",
    "                    # display_board(bConfig)\n",
    "                    print \"Board is full. Match drawn!\"\n",
    "                    game_on = False\n",
    "                else:\n",
    "                    playerNum = 2\n",
    "                    print 'player check', playerNum\n",
    "        \n",
    "        else:\n",
    "            # Player2's turn.\n",
    "            print \"Player %d turn :\"% playerNum\n",
    "            mark, loCation = player_input(bConfig, playerNum)\n",
    "            bConfig = place_marker(bConfig, mark, loCation)\n",
    "            display_board(bConfig)\n",
    "            \n",
    "            if win_check(bConfig,mark):\n",
    "                # display_board(bConfig)\n",
    "                print \"Player %d Won!!!\" % playerNum\n",
    "                game_on = False\n",
    "            else:\n",
    "                if full_board_check(bConfig):\n",
    "                    # display_board(bConfig)\n",
    "                    print \"Board is full. Match drawn!\"\n",
    "                    game_on = False\n",
    "                else:\n",
    "                    playerNum = 1\n",
    "                    print 'player check', playerNum\n",
    "    \n",
    "    if not replay():\n",
    "        break "
   ]
  }
 ],
 "metadata": {
  "kernelspec": {
   "display_name": "Python 2",
   "language": "python",
   "name": "python2"
  },
  "language_info": {
   "codemirror_mode": {
    "name": "ipython",
    "version": 2
   },
   "file_extension": ".py",
   "mimetype": "text/x-python",
   "name": "python",
   "nbconvert_exporter": "python",
   "pygments_lexer": "ipython2",
   "version": "2.7.12"
  }
 },
 "nbformat": 4,
 "nbformat_minor": 2
}
