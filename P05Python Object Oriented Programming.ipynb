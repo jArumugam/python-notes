{
 "cells": [
  {
   "cell_type": "markdown",
   "metadata": {},
   "source": [
    "Everything in python are objects\n",
    "\n",
    "Objects are instances of classes "
   ]
  },
  {
   "cell_type": "markdown",
   "metadata": {},
   "source": [
    "### This is how to create an object"
   ]
  },
  {
   "cell_type": "code",
   "execution_count": 4,
   "metadata": {
    "collapsed": false
   },
   "outputs": [],
   "source": [
    "class Student(object):\n",
    "    def __init__(self, nameInput):\n",
    "        self.name = nameInput"
   ]
  },
  {
   "cell_type": "code",
   "execution_count": 6,
   "metadata": {
    "collapsed": false
   },
   "outputs": [],
   "source": [
    "student1 = Student('Casey')"
   ]
  },
  {
   "cell_type": "code",
   "execution_count": 7,
   "metadata": {
    "collapsed": false
   },
   "outputs": [
    {
     "data": {
      "text/plain": [
       "'Casey'"
      ]
     },
     "execution_count": 7,
     "metadata": {},
     "output_type": "execute_result"
    }
   ],
   "source": [
    "student1.name"
   ]
  },
  {
   "cell_type": "markdown",
   "metadata": {},
   "source": [
    "### In the above\n",
    "\n",
    "Student is a class\n",
    "By convention, use captilization\n",
    "\n",
    "student1 is an object\n",
    "student1 is the instance of the class Student\n",
    "\n",
    "Classes have attributes\n",
    "Attributes are like data\n",
    "\n",
    "__init__ is used to initialize object attributes\n",
    "self refers to the instantiated object \n",
    "\n",
    "By convention, \n",
    "the above is usually defined as"
   ]
  },
  {
   "cell_type": "code",
   "execution_count": 8,
   "metadata": {
    "collapsed": true
   },
   "outputs": [],
   "source": [
    "class Student(object):\n",
    "    def __init__(self,name):\n",
    "        self.name = name\n",
    "\n",
    "# note how nameInput has been changed to name"
   ]
  },
  {
   "cell_type": "code",
   "execution_count": 22,
   "metadata": {
    "collapsed": false
   },
   "outputs": [
    {
     "name": "stdout",
     "output_type": "stream",
     "text": [
      "Casey\n"
     ]
    }
   ],
   "source": [
    "student1 = Student('Casey')\n",
    "print student1.name"
   ]
  },
  {
   "cell_type": "code",
   "execution_count": 23,
   "metadata": {
    "collapsed": false
   },
   "outputs": [
    {
     "name": "stdout",
     "output_type": "stream",
     "text": [
      "Varma\n"
     ]
    }
   ],
   "source": [
    "student2 = Student(name='Varma')\n",
    "print student2.name"
   ]
  },
  {
   "cell_type": "markdown",
   "metadata": {},
   "source": [
    "### class\n",
    "We have class\n",
    "\n",
    "### objects\n",
    "We have instantiated objects \n",
    "\n",
    "### attributes\n",
    "We have class attributes\n",
    "\n",
    "## methods\n",
    "Then we have methods\n",
    "\n",
    "Methods are class functions "
   ]
  },
  {
   "cell_type": "code",
   "execution_count": 19,
   "metadata": {
    "collapsed": true
   },
   "outputs": [],
   "source": [
    "class Rectangle(object):\n",
    "    def __init__(self, height, width):\n",
    "        self.height = height\n",
    "        self.width = width\n",
    "        \n",
    "    def area(self):\n",
    "        return self.height*self.width"
   ]
  },
  {
   "cell_type": "code",
   "execution_count": 24,
   "metadata": {
    "collapsed": false
   },
   "outputs": [
    {
     "name": "stdout",
     "output_type": "stream",
     "text": [
      "Area is 2\n"
     ]
    }
   ],
   "source": [
    "rect1 = Rectangle(1,2)\n",
    "print 'Area is', rect1.area()"
   ]
  },
  {
   "cell_type": "code",
   "execution_count": 21,
   "metadata": {
    "collapsed": false
   },
   "outputs": [
    {
     "name": "stdout",
     "output_type": "stream",
     "text": [
      "Radius is:  2\n",
      "Area is:  12.56\n"
     ]
    }
   ],
   "source": [
    "class Circle(object):\n",
    "    pi = 3.14\n",
    "\n",
    "    # Circle get instantiated with a radius (default is 1)\n",
    "    def __init__(self, radius=1):\n",
    "        self.radius = radius \n",
    "\n",
    "    # Area method calculates the area. Note the use of self.\n",
    "    def area(self):\n",
    "        return self.radius * self.radius * Circle.pi\n",
    "\n",
    "    # Method for resetting Radius\n",
    "    def setRadius(self, radius):\n",
    "        self.radius = radius\n",
    "\n",
    "    # Method for getting radius (Same as just calling .radius)\n",
    "    def getRadius(self):\n",
    "        return self.radius\n",
    "\n",
    "\n",
    "c = Circle()\n",
    "\n",
    "c.setRadius(2)\n",
    "print 'Radius is: ',c.getRadius()\n",
    "print 'Area is: ',c.area()"
   ]
  },
  {
   "cell_type": "markdown",
   "metadata": {},
   "source": [
    "#### Notice methods are functions and are called as function "
   ]
  },
  {
   "cell_type": "markdown",
   "metadata": {},
   "source": [
    "#### class object attributes\n",
    "These are common to all objects of a class"
   ]
  },
  {
   "cell_type": "code",
   "execution_count": 25,
   "metadata": {
    "collapsed": true
   },
   "outputs": [],
   "source": [
    "class Student(object):\n",
    "    \n",
    "    # class object attribute\n",
    "    college = 'A&M'\n",
    "    \n",
    "    def __init__(self,name):\n",
    "        self.name = name"
   ]
  },
  {
   "cell_type": "code",
   "execution_count": 26,
   "metadata": {
    "collapsed": false
   },
   "outputs": [
    {
     "name": "stdout",
     "output_type": "stream",
     "text": [
      "<__main__.Student object at 0x10ea74ad0>\n",
      "Rahman\n",
      "A&M\n"
     ]
    }
   ],
   "source": [
    "student3 = Student('Rahman')\n",
    "print student3\n",
    "print student3.name\n",
    "print student3.college"
   ]
  },
  {
   "cell_type": "markdown",
   "metadata": {},
   "source": [
    "Then there is inheritance and special methods\n",
    "\n",
    "### Inheritance\n",
    "\n",
    "There is a base class and a derived class.\n",
    "\n",
    "#### Base class\n",
    "* gets attributes and methods from the base class\n",
    "* can overwirte attributes from the base class\n",
    "* can have additional attributes compared to the base class"
   ]
  },
  {
   "cell_type": "markdown",
   "metadata": {},
   "source": [
    "### Here is a Base class"
   ]
  },
  {
   "cell_type": "code",
   "execution_count": 42,
   "metadata": {
    "collapsed": true
   },
   "outputs": [],
   "source": [
    "class Animal(object):\n",
    "    def __init__(self):\n",
    "        print 'Animal created'\n",
    "        \n",
    "    def whoAmI(self):\n",
    "        print 'Animal'\n",
    "        \n",
    "    def eat(self):\n",
    "        print 'Eating'\n",
    "        \n",
    "    def __del__(self):\n",
    "        print 'del is a standard python object'\n",
    "        print 'Here del is used as a special method'\n",
    "        print 'Animal destroyed'"
   ]
  },
  {
   "cell_type": "code",
   "execution_count": 43,
   "metadata": {
    "collapsed": false
   },
   "outputs": [
    {
     "name": "stdout",
     "output_type": "stream",
     "text": [
      "Animal created\n",
      "Animal\n",
      "None\n",
      "Eating\n",
      "None\n",
      "del is a standard python object\n",
      "Here del is used as a special method\n",
      "Animal destroyed\n"
     ]
    }
   ],
   "source": [
    "anim1 = Animal()\n",
    "print anim1.whoAmI()\n",
    "print anim1.eat()\n",
    "del anim1"
   ]
  },
  {
   "cell_type": "markdown",
   "metadata": {},
   "source": [
    "strangely 'None' is getting printed.\n",
    "This is due to not returning in methods function call\n",
    "\n",
    "Check [stackoverflow discussion](http://stackoverflow.com/questions/28812851/why-is-python-printing-none-in-the-output)\n",
    "Also [Tips on markdown](https://help.ghost.org/hc/en-us/articles/224410728-Markdown-Guide)\n",
    "\n",
    "Anyways, here is a derived class"
   ]
  },
  {
   "cell_type": "code",
   "execution_count": 45,
   "metadata": {
    "collapsed": false
   },
   "outputs": [
    {
     "name": "stdout",
     "output_type": "stream",
     "text": [
      "Dog created\n",
      "del is a standard python object\n",
      "Here del is used as a special method\n",
      "Animal destroyed\n",
      "Woff woof\n",
      "I am a dog.\n",
      "Did you expect Animal to print?\n",
      "Eating\n",
      "None\n"
     ]
    }
   ],
   "source": [
    "class Dog(Animal):\n",
    "    def __init__(self):\n",
    "        print 'Dog created'\n",
    "        \n",
    "    def bark(self):\n",
    "        return \"Woff woof\"\n",
    "        \n",
    "    def whoAmI(self):\n",
    "        print 'I am a dog.'\n",
    "        return 'Did you expect Animal to print?'\n",
    "        \n",
    "dog1 = Dog()\n",
    "print dog1.bark()\n",
    "print dog1.whoAmI()\n",
    "print dog1.eat()"
   ]
  },
  {
   "cell_type": "markdown",
   "metadata": {},
   "source": [
    "### Notice\n",
    "#### Base class\n",
    "* gets attributes and methods from the base class\n",
    "* can overwirte attributes from the base class\n",
    "* can have additional attributes compared to the base class\n",
    "\n",
    "#### del \n",
    "del is used as a special method"
   ]
  },
  {
   "cell_type": "code",
   "execution_count": 47,
   "metadata": {
    "collapsed": false
   },
   "outputs": [
    {
     "name": "stdout",
     "output_type": "stream",
     "text": [
      "GOOD luck!\n"
     ]
    }
   ],
   "source": [
    "print 'GOOD luck!'"
   ]
  },
  {
   "cell_type": "code",
   "execution_count": null,
   "metadata": {
    "collapsed": true
   },
   "outputs": [],
   "source": []
  }
 ],
 "metadata": {
  "kernelspec": {
   "display_name": "Python 2",
   "language": "python",
   "name": "python2"
  },
  "language_info": {
   "codemirror_mode": {
    "name": "ipython",
    "version": 2
   },
   "file_extension": ".py",
   "mimetype": "text/x-python",
   "name": "python",
   "nbconvert_exporter": "python",
   "pygments_lexer": "ipython2",
   "version": "2.7.12"
  }
 },
 "nbformat": 4,
 "nbformat_minor": 2
}
