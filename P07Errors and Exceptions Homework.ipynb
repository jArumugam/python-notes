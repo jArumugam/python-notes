{
 "cells": [
  {
   "cell_type": "markdown",
   "metadata": {},
   "source": [
    "#Errors and Exceptions Homework - "
   ]
  },
  {
   "cell_type": "markdown",
   "metadata": {},
   "source": [
    "###Problem 1\n",
    "Handle the exception thrown by the code below by using try and except blocks."
   ]
  },
  {
   "cell_type": "code",
   "execution_count": 2,
   "metadata": {
    "collapsed": false
   },
   "outputs": [
    {
     "name": "stdout",
     "output_type": "stream",
     "text": [
      "Not an integer\n",
      "Not an integer\n",
      "Not an integer\n"
     ]
    }
   ],
   "source": [
    "for i in ['a','b','c']:\n",
    "    try: \n",
    "        print i**2\n",
    "    except:\n",
    "        print \"Not an integer\""
   ]
  },
  {
   "cell_type": "markdown",
   "metadata": {},
   "source": [
    "###Problem 2\n",
    "Handle the exception thrown by the code below by using **try** and **except** blocks. Then use a **finally** block to print 'All Done.'"
   ]
  },
  {
   "cell_type": "code",
   "execution_count": 3,
   "metadata": {
    "collapsed": false
   },
   "outputs": [
    {
     "name": "stdout",
     "output_type": "stream",
     "text": [
      "x/y Division could not be performed\n",
      "All done!\n"
     ]
    }
   ],
   "source": [
    "x = 5\n",
    "y = 0\n",
    "try: \n",
    "    z = x/y\n",
    "except:\n",
    "    print \"x/y Division could not be performed\"\n",
    "finally:\n",
    "    print \"All done!\""
   ]
  },
  {
   "cell_type": "markdown",
   "metadata": {},
   "source": [
    "###Problem 3\n",
    "Write a function that asks for an integer and prints the square of it. Use a while loop with a try,except, else block to account for incorrect inputs."
   ]
  },
  {
   "cell_type": "code",
   "execution_count": 6,
   "metadata": {
    "collapsed": false
   },
   "outputs": [],
   "source": [
    "def ask():\n",
    "    while True:\n",
    "        try:\n",
    "            val = int(raw_input(\"Enter a number :\"))\n",
    "        except:\n",
    "            print \"Enter a proper number\"\n",
    "            continue\n",
    "        else:\n",
    "            print \"The square of the entered numer is :\", val**2\n",
    "            break"
   ]
  },
  {
   "cell_type": "code",
   "execution_count": 7,
   "metadata": {
    "collapsed": false
   },
   "outputs": [
    {
     "name": "stdout",
     "output_type": "stream",
     "text": [
      "Enter a number :e\n",
      "Enter a proper number\n",
      "Enter a number :r\n",
      "Enter a proper number\n",
      "Enter a number :3\n",
      "The square of the entered numer is : 9\n"
     ]
    }
   ],
   "source": [
    "ask()"
   ]
  },
  {
   "cell_type": "markdown",
   "metadata": {},
   "source": [
    "#Great Job!"
   ]
  }
 ],
 "metadata": {
  "kernelspec": {
   "display_name": "Python 2",
   "language": "python",
   "name": "python2"
  },
  "language_info": {
   "codemirror_mode": {
    "name": "ipython",
    "version": 2
   },
   "file_extension": ".py",
   "mimetype": "text/x-python",
   "name": "python",
   "nbconvert_exporter": "python",
   "pygments_lexer": "ipython2",
   "version": "2.7.12"
  }
 },
 "nbformat": 4,
 "nbformat_minor": 0
}
