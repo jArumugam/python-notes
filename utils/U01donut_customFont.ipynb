{
 "cells": [
  {
   "cell_type": "code",
   "execution_count": 1,
   "metadata": {
    "collapsed": true
   },
   "outputs": [],
   "source": [
    "import matplotlib.pyplot as plt\n",
    "%matplotlib inline # plotting in notebook\n",
    "plt.rcParams[\"figure.figsize\"] = (10,10) # fig size\n",
    "import seaborn as sns\n",
    "import webcolors\n",
    "%config InlineBackend.figure_format = 'pdf' # pdf for use in latex\n",
    "\n",
    "from matplotlib.font_manager import FontProperties\n",
    "import matplotlib.font_manager as font_manager"
   ]
  },
  {
   "cell_type": "markdown",
   "metadata": {},
   "source": [
    "### Using custom fonts\n",
    "Relevant _fontName.ttf_ font need to be downloaded"
   ]
  },
  {
   "cell_type": "code",
   "execution_count": 4,
   "metadata": {
    "collapsed": false
   },
   "outputs": [
    {
     "name": "stdout",
     "output_type": "stream",
     "text": [
      "Segoe UI\n",
      "[u'sans-serif']\n"
     ]
    }
   ],
   "source": [
    "# help(font_manager)\n",
    "\n",
    "path = '../fonts/segoeuib.ttf'\n",
    "prop = font_manager.FontProperties(fname=path)\n",
    "print prop.get_name()\n",
    "print prop.get_family()\n",
    "\n",
    "# font0 = FontProperties()\n",
    "# font1 = font0.copy()\n",
    "# font1.set_family(prop.get_name())"
   ]
  },
  {
   "cell_type": "markdown",
   "metadata": {},
   "source": [
    "- Controlling [font properties](http://stackoverflow.com/questions/16574898/how-to-load-ttf-file-in-matplotlib-using-mpl-rcparams)\n",
    "- Pylab [examples](http://matplotlib.org/examples/pylab_examples/fonts_demo.html) \n",
    "- pie [autopct](http://stackoverflow.com/questions/6170246/how-do-i-use-matplotlib-autopct)\n",
    "- Plot labels inside by controlling the radial distance `labeldistance`\n",
    "\n",
    "### Donut plot in matplotlib"
   ]
  },
  {
   "cell_type": "code",
   "execution_count": 5,
   "metadata": {
    "collapsed": false
   },
   "outputs": [
    {
     "data": {
      "application/pdf": "[encoded data removed]",
      "text/plain": [
       "<matplotlib.figure.Figure at 0x114e61350>"
      ]
     },
     "metadata": {},
     "output_type": "display_data"
    }
   ],
   "source": [
    "# Data to plot\n",
    "labels = ['Python', 'R','Matlab', 'C, C++']\n",
    "sizes = [36, 19, 30, 15]\n",
    "colors = ['#2196F3','#FF5722', '#CDDC39', '#4CAF50']\n",
    "# explode = (0.1, 0, 0, 0)  # explode 1st slice\n",
    "explode = (0, 0, 0, 0)  # explode 1st slice\n",
    "\n",
    "plt.figure(figsize=(8,8))\n",
    "patches, texts = plt.pie(sizes, explode=explode, labels=labels, labeldistance=0.7, colors=colors,\n",
    "        autopct=None, shadow=False, startangle=25)\n",
    "\n",
    "for item in texts:\n",
    "    # item.set_fontproperties(prop)\n",
    "    item.set_fontsize(30)\n",
    "    item.set_horizontalalignment('center')\n",
    "    item.set_weight('bold')\n",
    "    item.set_family(prop.get_family())\n",
    "\n",
    "\n",
    "#draw a circle at the center of pie to make it look like a donut\n",
    "centre_circle = plt.Circle((0,0),0.4,color='#E7E7E7',linewidth=1.25)\n",
    "fig = plt.gcf()\n",
    "fig.gca().add_artist(centre_circle)\n",
    "\n",
    "plt.axis('equal')\n",
    "plt.tight_layout()\n",
    "plt.savefig('doughnut2.pdf',transparent=True)\n",
    "plt.show()"
   ]
  },
  {
   "cell_type": "code",
   "execution_count": null,
   "metadata": {
    "collapsed": true
   },
   "outputs": [],
   "source": []
  }
 ],
 "metadata": {
  "kernelspec": {
   "display_name": "Python 2",
   "language": "python",
   "name": "python2"
  },
  "language_info": {
   "codemirror_mode": {
    "name": "ipython",
    "version": 2
   },
   "file_extension": ".py",
   "mimetype": "text/x-python",
   "name": "python",
   "nbconvert_exporter": "python",
   "pygments_lexer": "ipython2",
   "version": "2.7.13"
  }
 },
 "nbformat": 4,
 "nbformat_minor": 2
}
